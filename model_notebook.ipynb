{
 "cells": [
  {
   "cell_type": "markdown",
   "metadata": {},
   "source": [
    "## Imports, Directories, and Devices"
   ]
  },
  {
   "cell_type": "code",
   "execution_count": 1,
   "metadata": {},
   "outputs": [],
   "source": [
    "import os\n",
    "import matplotlib.pyplot as plt\n",
    "import numpy as np\n",
    "import os\n",
    "import PIL\n",
    "import tensorflow as tf\n",
    "import pathlib\n",
    "\n",
    "from tensorflow import keras\n",
    "from tensorflow.keras import layers\n",
    "from tensorflow.keras.models import Sequential\n",
    "from tensorflow.keras.optimizers import Adam"
   ]
  },
  {
   "cell_type": "code",
   "execution_count": 2,
   "metadata": {},
   "outputs": [],
   "source": [
    "data_set_path = \"C:\\\\Users\\\\Mindicree\\\\Documents\\\\College Stuff\\\\2021 Spring\\\\Computer Vision\\\\data-set-convert-2\"\n",
    "keras_path = \"C:\\\\Users\\\\Mindicree\\\\Documents\\\\College Stuff\\\\2021 Spring\\\\Computer Vision\\\\Keras Models\"\n",
    "tflite_path = \"C:\\\\Users\\\\Mindicree\\\\Documents\\\\College Stuff\\\\2021 Spring\\\\Computer Vision\\\\TFLite Models\"\n",
    "os.chdir(data_set_path)\n",
    "data_dir = pathlib.Path(data_set_path)"
   ]
  },
  {
   "cell_type": "code",
   "execution_count": 3,
   "metadata": {},
   "outputs": [
    {
     "name": "stdout",
     "output_type": "stream",
     "text": [
      "Num GPUs Available:  1\n",
      "[PhysicalDevice(name='/physical_device:CPU:0', device_type='CPU'), PhysicalDevice(name='/physical_device:GPU:0', device_type='GPU')]\n",
      "GPU: /device:GPU:0\n"
     ]
    }
   ],
   "source": [
    "device_name = tf.test.gpu_device_name()\n",
    "print(\"Num GPUs Available: \", len(tf.config.list_physical_devices('GPU')))\n",
    "print(tf.config.list_physical_devices())\n",
    "print('GPU: ' + device_name)"
   ]
  },
  {
   "cell_type": "markdown",
   "metadata": {},
   "source": [
    "## Tuning Parameters"
   ]
  },
  {
   "cell_type": "code",
   "execution_count": 4,
   "metadata": {},
   "outputs": [],
   "source": [
    "#Parameter Tuning\n",
    "batch_size = 1           #16-64 seems best\n",
    "epochs = 32               #32-64 seems best\n",
    "learning_rate = 0.00015     #0.0001 - 0.001 seems best\n",
    "patience_limit = 512       #set less than epochs size for early stopping\n",
    "validation_split = 0.2    #percent for validation data. 0.2 seems best\n",
    "\n",
    "img_height = 256          #128 or higher seems best\n",
    "img_width = 256           #128 or higher seems best\n",
    "\n",
    "conv_size_1 = 128          #original is 16\n",
    "drop_size_1 = 0.2         #0.2-0.5 seems best\n",
    "conv_size_2 = 64          #original is 32\n",
    "drop_size_2 = 0.2         #0.2-0.5 seems best\n",
    "conv_size_3 = 32          #original is 64\n",
    "drop_size_3 = 0.2         #0.2-0.5 seems best\n",
    "output_size = 256         #original is 128"
   ]
  },
  {
   "cell_type": "markdown",
   "metadata": {},
   "source": [
    "<h1>Getting Data From Directory and Splitting</h1>"
   ]
  },
  {
   "cell_type": "code",
   "execution_count": 5,
   "metadata": {},
   "outputs": [
    {
     "name": "stdout",
     "output_type": "stream",
     "text": [
      "Found 1500 files belonging to 15 classes.\n",
      "Using 1200 files for training.\n",
      "Found 1500 files belonging to 15 classes.\n",
      "Using 300 files for validation.\n"
     ]
    }
   ],
   "source": [
    "train_ds = tf.keras.preprocessing.image_dataset_from_directory(\n",
    "  data_dir,\n",
    "  validation_split=validation_split,\n",
    "  subset=\"training\",\n",
    "  seed=123,\n",
    "  image_size=(img_height, img_width),\n",
    "  batch_size=batch_size)\n",
    "\n",
    "val_ds = tf.keras.preprocessing.image_dataset_from_directory(\n",
    "  data_dir,\n",
    "  validation_split=validation_split,\n",
    "  subset=\"validation\",\n",
    "  seed=123,\n",
    "  image_size=(img_height, img_width),\n",
    "  batch_size=batch_size)"
   ]
  },
  {
   "cell_type": "code",
   "execution_count": 6,
   "metadata": {},
   "outputs": [
    {
     "name": "stdout",
     "output_type": "stream",
     "text": [
      "['bluejay', 'cardinal', 'crow', 'dove', 'eagle', 'falcon', 'flamingo', 'hummingbird', 'magpie', 'ostrich', 'owl', 'parrot', 'robin', 'turkey', 'woodpecker']\n"
     ]
    }
   ],
   "source": [
    "print(train_ds.class_names)"
   ]
  },
  {
   "cell_type": "code",
   "execution_count": 7,
   "metadata": {},
   "outputs": [],
   "source": [
    "AUTOTUNE = tf.data.AUTOTUNE\n",
    "\n",
    "train_ds = train_ds.cache().shuffle(1000).prefetch(buffer_size=AUTOTUNE)\n",
    "val_ds = val_ds.cache().prefetch(buffer_size=AUTOTUNE)"
   ]
  },
  {
   "cell_type": "markdown",
   "metadata": {},
   "source": [
    "## Creating The Model"
   ]
  },
  {
   "cell_type": "code",
   "execution_count": 8,
   "metadata": {},
   "outputs": [],
   "source": [
    "num_classes = 15\n",
    "\n",
    "data_augmentation = keras.Sequential(\n",
    "  [\n",
    "    layers.experimental.preprocessing.RandomFlip(\"horizontal\", \n",
    "                                                 input_shape=(img_height, \n",
    "                                                              img_width,\n",
    "                                                              3)),\n",
    "    layers.experimental.preprocessing.RandomRotation(0.1),\n",
    "    layers.experimental.preprocessing.RandomZoom(0.1),\n",
    "  ]\n",
    ")\n",
    "\n",
    "model = Sequential([\n",
    "  data_augmentation,\n",
    "  layers.experimental.preprocessing.Rescaling(1./255),\n",
    "  layers.Conv2D(conv_size_1, 3, padding='same', activation='relu'),\n",
    "  layers.MaxPooling2D(),\n",
    "  layers.Dropout(drop_size_1),\n",
    "  layers.Conv2D(conv_size_2, 3, padding='same', activation='relu'),\n",
    "  layers.MaxPooling2D(),\n",
    "  layers.Dropout(drop_size_2),\n",
    "  layers.Conv2D(conv_size_3, 3, padding='same', activation='relu'),\n",
    "  layers.MaxPooling2D(),\n",
    "  layers.Dropout(drop_size_3),\n",
    "  layers.Flatten(),\n",
    "  layers.Dense(25, activation='relu'),\n",
    "  layers.Dense(num_classes, activation='sigmoid')\n",
    "])\n",
    "\n",
    "lr_callback = tf.keras.callbacks.ReduceLROnPlateau(monitor='val_loss', factor=0.1, patience=3, min_lr=0.000001, verbose=1)\n",
    "es_callback = keras.callbacks.EarlyStopping(monitor='val_loss', patience=patience_limit)"
   ]
  },
  {
   "cell_type": "code",
   "execution_count": 9,
   "metadata": {},
   "outputs": [
    {
     "name": "stdout",
     "output_type": "stream",
     "text": [
      "Model: \"sequential_1\"\n",
      "_________________________________________________________________\n",
      "Layer (type)                 Output Shape              Param #   \n",
      "=================================================================\n",
      "sequential (Sequential)      (None, 256, 256, 3)       0         \n",
      "_________________________________________________________________\n",
      "rescaling (Rescaling)        (None, 256, 256, 3)       0         \n",
      "_________________________________________________________________\n",
      "conv2d (Conv2D)              (None, 256, 256, 128)     3584      \n",
      "_________________________________________________________________\n",
      "max_pooling2d (MaxPooling2D) (None, 128, 128, 128)     0         \n",
      "_________________________________________________________________\n",
      "dropout (Dropout)            (None, 128, 128, 128)     0         \n",
      "_________________________________________________________________\n",
      "conv2d_1 (Conv2D)            (None, 128, 128, 64)      73792     \n",
      "_________________________________________________________________\n",
      "max_pooling2d_1 (MaxPooling2 (None, 64, 64, 64)        0         \n",
      "_________________________________________________________________\n",
      "dropout_1 (Dropout)          (None, 64, 64, 64)        0         \n",
      "_________________________________________________________________\n",
      "conv2d_2 (Conv2D)            (None, 64, 64, 32)        18464     \n",
      "_________________________________________________________________\n",
      "max_pooling2d_2 (MaxPooling2 (None, 32, 32, 32)        0         \n",
      "_________________________________________________________________\n",
      "dropout_2 (Dropout)          (None, 32, 32, 32)        0         \n",
      "_________________________________________________________________\n",
      "flatten (Flatten)            (None, 32768)             0         \n",
      "_________________________________________________________________\n",
      "dense (Dense)                (None, 25)                819225    \n",
      "_________________________________________________________________\n",
      "dense_1 (Dense)              (None, 15)                390       \n",
      "=================================================================\n",
      "Total params: 915,455\n",
      "Trainable params: 915,455\n",
      "Non-trainable params: 0\n",
      "_________________________________________________________________\n"
     ]
    }
   ],
   "source": [
    "model.compile(optimizer=Adam(lr=learning_rate),\n",
    "              loss=tf.keras.losses.SparseCategoricalCrossentropy(from_logits=True),\n",
    "              metrics=['accuracy'])\n",
    "model.summary()"
   ]
  },
  {
   "cell_type": "markdown",
   "metadata": {},
   "source": [
    "## Training The Model"
   ]
  },
  {
   "cell_type": "code",
   "execution_count": 10,
   "metadata": {},
   "outputs": [
    {
     "name": "stdout",
     "output_type": "stream",
     "text": [
      "Using GPU: /device:GPU:0\n",
      "Epoch 1/32\n",
      "1200/1200 [==============================] - 49s 20ms/step - loss: 2.7300 - accuracy: 0.0658 - val_loss: 2.7085 - val_accuracy: 0.0567\n",
      "Epoch 2/32\n",
      "1200/1200 [==============================] - 11s 10ms/step - loss: 2.7079 - accuracy: 0.0809 - val_loss: 2.7090 - val_accuracy: 0.0500\n",
      "Epoch 3/32\n",
      "1200/1200 [==============================] - 12s 10ms/step - loss: 2.7133 - accuracy: 0.0561 - val_loss: 2.7055 - val_accuracy: 0.1167\n",
      "Epoch 4/32\n",
      "1200/1200 [==============================] - 12s 10ms/step - loss: 2.6316 - accuracy: 0.1155 - val_loss: 2.4501 - val_accuracy: 0.2267\n",
      "Epoch 5/32\n",
      "1200/1200 [==============================] - 12s 10ms/step - loss: 2.4119 - accuracy: 0.2111 - val_loss: 2.3303 - val_accuracy: 0.2433\n",
      "Epoch 6/32\n",
      "1200/1200 [==============================] - 12s 10ms/step - loss: 2.2554 - accuracy: 0.2612 - val_loss: 2.0400 - val_accuracy: 0.3433\n",
      "Epoch 7/32\n",
      "1200/1200 [==============================] - 11s 10ms/step - loss: 1.9162 - accuracy: 0.3716 - val_loss: 1.9588 - val_accuracy: 0.3500\n",
      "Epoch 8/32\n",
      "1200/1200 [==============================] - 11s 10ms/step - loss: 1.8489 - accuracy: 0.3974 - val_loss: 1.8449 - val_accuracy: 0.3733\n",
      "Epoch 9/32\n",
      "1200/1200 [==============================] - 11s 10ms/step - loss: 1.7011 - accuracy: 0.4509 - val_loss: 1.7027 - val_accuracy: 0.4500\n",
      "Epoch 10/32\n",
      "1200/1200 [==============================] - 11s 10ms/step - loss: 1.5364 - accuracy: 0.5107 - val_loss: 2.0863 - val_accuracy: 0.3800\n",
      "Epoch 11/32\n",
      "1200/1200 [==============================] - 11s 10ms/step - loss: 1.5137 - accuracy: 0.5313 - val_loss: 1.8311 - val_accuracy: 0.4800\n",
      "Epoch 12/32\n",
      "1200/1200 [==============================] - 11s 10ms/step - loss: 1.3635 - accuracy: 0.5710 - val_loss: 1.5416 - val_accuracy: 0.4967\n",
      "Epoch 13/32\n",
      "1200/1200 [==============================] - 12s 10ms/step - loss: 1.2722 - accuracy: 0.5759 - val_loss: 1.5498 - val_accuracy: 0.5133\n",
      "Epoch 14/32\n",
      "1200/1200 [==============================] - 12s 10ms/step - loss: 1.1197 - accuracy: 0.6350 - val_loss: 1.4170 - val_accuracy: 0.5667\n",
      "Epoch 15/32\n",
      "1200/1200 [==============================] - 12s 10ms/step - loss: 1.0950 - accuracy: 0.6510 - val_loss: 1.4568 - val_accuracy: 0.5733\n",
      "Epoch 16/32\n",
      "1200/1200 [==============================] - 12s 10ms/step - loss: 1.0992 - accuracy: 0.6633 - val_loss: 1.4858 - val_accuracy: 0.5433\n",
      "Epoch 17/32\n",
      "1200/1200 [==============================] - 12s 10ms/step - loss: 1.0329 - accuracy: 0.6713 - val_loss: 1.5410 - val_accuracy: 0.5667\n",
      "\n",
      "Epoch 00017: ReduceLROnPlateau reducing learning rate to 1.500000071246177e-05.\n",
      "Epoch 18/32\n",
      "1200/1200 [==============================] - 12s 10ms/step - loss: 0.8948 - accuracy: 0.7062 - val_loss: 1.4267 - val_accuracy: 0.5867\n",
      "Epoch 19/32\n",
      "1200/1200 [==============================] - 12s 10ms/step - loss: 0.7434 - accuracy: 0.7615 - val_loss: 1.3589 - val_accuracy: 0.6033\n",
      "Epoch 20/32\n",
      "1200/1200 [==============================] - 12s 10ms/step - loss: 0.6941 - accuracy: 0.7856 - val_loss: 1.3949 - val_accuracy: 0.6067\n",
      "Epoch 21/32\n",
      "1200/1200 [==============================] - 12s 10ms/step - loss: 0.7423 - accuracy: 0.7749 - val_loss: 1.4166 - val_accuracy: 0.6033\n",
      "Epoch 22/32\n",
      "1200/1200 [==============================] - 11s 10ms/step - loss: 0.7213 - accuracy: 0.7747 - val_loss: 1.3853 - val_accuracy: 0.6000\n",
      "\n",
      "Epoch 00022: ReduceLROnPlateau reducing learning rate to 1.500000053056283e-06.\n",
      "Epoch 23/32\n",
      "1200/1200 [==============================] - 12s 10ms/step - loss: 0.6702 - accuracy: 0.7773 - val_loss: 1.3884 - val_accuracy: 0.6067\n",
      "Epoch 24/32\n",
      "1200/1200 [==============================] - 11s 9ms/step - loss: 0.7265 - accuracy: 0.7721 - val_loss: 1.3778 - val_accuracy: 0.6100\n",
      "Epoch 25/32\n",
      "1200/1200 [==============================] - 12s 10ms/step - loss: 0.6917 - accuracy: 0.7846 - val_loss: 1.3858 - val_accuracy: 0.6167\n",
      "\n",
      "Epoch 00025: ReduceLROnPlateau reducing learning rate to 1e-06.\n",
      "Epoch 26/32\n",
      "1200/1200 [==============================] - 11s 10ms/step - loss: 0.6869 - accuracy: 0.7861 - val_loss: 1.3849 - val_accuracy: 0.6100\n",
      "Epoch 27/32\n",
      "1200/1200 [==============================] - 11s 10ms/step - loss: 0.7017 - accuracy: 0.7720 - val_loss: 1.3764 - val_accuracy: 0.6133\n",
      "Epoch 28/32\n",
      "1200/1200 [==============================] - 12s 10ms/step - loss: 0.7513 - accuracy: 0.7549 - val_loss: 1.3765 - val_accuracy: 0.6133\n",
      "Epoch 29/32\n",
      "1200/1200 [==============================] - 12s 10ms/step - loss: 0.7047 - accuracy: 0.7818 - val_loss: 1.3711 - val_accuracy: 0.6100\n",
      "Epoch 30/32\n",
      "1200/1200 [==============================] - 11s 9ms/step - loss: 0.6788 - accuracy: 0.7701 - val_loss: 1.3795 - val_accuracy: 0.6100\n",
      "Epoch 31/32\n",
      "1200/1200 [==============================] - 11s 9ms/step - loss: 0.6680 - accuracy: 0.7872 - val_loss: 1.3710 - val_accuracy: 0.6133\n",
      "Epoch 32/32\n",
      "1200/1200 [==============================] - 11s 10ms/step - loss: 0.6525 - accuracy: 0.7929 - val_loss: 1.3677 - val_accuracy: 0.6100\n"
     ]
    }
   ],
   "source": [
    "try:\n",
    "  with tf.device(device_name):\n",
    "    print(\"Using GPU: \" + device_name)\n",
    "    history = model.fit(\n",
    "      train_ds,\n",
    "      validation_data=val_ds,\n",
    "      epochs=epochs,\n",
    "      callbacks=[es_callback, lr_callback]\n",
    "    )\n",
    "except Exception as e:\n",
    "  print(e)\n",
    "  print(\"Using CPU\")\n",
    "  history = model.fit(\n",
    "      train_ds,\n",
    "      validation_data=val_ds,\n",
    "      epochs=epochs,\n",
    "      callbacks=[es_callback]\n",
    "    )"
   ]
  },
  {
   "cell_type": "markdown",
   "metadata": {},
   "source": [
    "## Result Visualization"
   ]
  },
  {
   "cell_type": "code",
   "execution_count": 11,
   "metadata": {},
   "outputs": [
    {
     "data": {
      "image/png": "[encoded data removed]",
      "text/plain": [
       "<Figure size 576x576 with 2 Axes>"
      ]
     },
     "metadata": {
      "needs_background": "light"
     },
     "output_type": "display_data"
    }
   ],
   "source": [
    "acc = history.history['accuracy']\n",
    "val_acc = history.history['val_accuracy']\n",
    "\n",
    "loss = history.history['loss']\n",
    "val_loss = history.history['val_loss']\n",
    "\n",
    "epochs_range = range(epochs)\n",
    "\n",
    "plt.figure(figsize=(8, 8))\n",
    "plt.subplot(1, 2, 1)\n",
    "plt.plot(epochs_range, acc, label='Training Accuracy')\n",
    "plt.plot(epochs_range, val_acc, label='Validation Accuracy')\n",
    "plt.legend(loc='lower right')\n",
    "plt.title('Training and Validation Accuracy')\n",
    "\n",
    "plt.subplot(1, 2, 2)\n",
    "plt.plot(epochs_range, loss, label='Training Loss')\n",
    "plt.plot(epochs_range, val_loss, label='Validation Loss')\n",
    "plt.legend(loc='upper right')\n",
    "plt.title('Training and Validation Loss')\n",
    "plt.show()"
   ]
  },
  {
   "cell_type": "markdown",
   "metadata": {},
   "source": [
    "## Model Export"
   ]
  },
  {
   "cell_type": "code",
   "execution_count": 12,
   "metadata": {},
   "outputs": [
    {
     "name": "stdout",
     "output_type": "stream",
     "text": [
      "INFO:tensorflow:Assets written to: avg0.4826--med0.5667--max0.6167--parambs1--ep32--lr0.00015--pl512--vs0.2--dim256x256--cv1128--dr10.2--cv264--dr20.2--cv332--dr30.2--out256\\assets\n",
      "INFO:tensorflow:Assets written to: C:\\Users\\MINDIC~1\\AppData\\Local\\Temp\\tmp8jugmxpi\\assets\n"
     ]
    }
   ],
   "source": [
    "def average(some_list):\n",
    "  return round(sum(some_list)/len(some_list), 4)\n",
    "\n",
    "def median(some_list):\n",
    "  return round(some_list[int(len(some_list)/2)], 4)\n",
    "\n",
    "def parameters_to_string():\n",
    "  return 'bs' + str(batch_size) + '--ep'+ str(epochs) + '--lr'+ str(learning_rate) + '--pl'+ str(patience_limit) + '--vs'+ str(validation_split) + '--dim'+ str(img_height) + 'x'+ str(img_width) + '--cv1'+ str(conv_size_1) + '--dr1'+ str(drop_size_1) + '--cv2'+ str(conv_size_2) + '--dr2'+ str(drop_size_2) + '--cv3'+ str(conv_size_3) + '--dr3'+ str(drop_size_3) + '--out'+ str(output_size)+''\n",
    "\n",
    "\n",
    "#Save keras model\n",
    "os.chdir(keras_path)\n",
    "file_string = 'avg' + str(average(val_acc)) + '--med' + str(median(val_acc)) + '--max' + str(round(max(val_acc), 4)) + '--param' + parameters_to_string() + ''\n",
    "model.save(file_string)\n",
    "\n",
    "#Convert model to tflite model\n",
    "converter = tf.lite.TFLiteConverter.from_keras_model(model)\n",
    "tflite_model = converter.convert()\n",
    "\n",
    "# Save tflite model.\n",
    "os.chdir(tflite_path)\n",
    "file_string = 'avg' + str(average(val_acc)) + '--med' + str(median(val_acc)) + '--max' + str(round(max(val_acc), 4)) + '--param' + parameters_to_string() + '.tflite'\n",
    "with open(file_string, 'wb') as f:\n",
    "  f.write(tflite_model)"
   ]
  },
  {
   "cell_type": "code",
   "execution_count": 13,
   "metadata": {},
   "outputs": [
    {
     "name": "stdout",
     "output_type": "stream",
     "text": [
      "avg0.4826--med0.5667--max0.6167--parambs1--ep32--lr0.00015--pl512--vs0.2--dim256x256--cv1128--dr10.2--cv264--dr20.2--cv332--dr30.2--out256.tflite\n"
     ]
    }
   ],
   "source": [
    "print(file_string)"
   ]
  }
 ],
 "metadata": {
  "kernelspec": {
   "display_name": "Python 3",
   "language": "python",
   "name": "python3"
  },
  "language_info": {
   "codemirror_mode": {
    "name": "ipython",
    "version": 3
   },
   "file_extension": ".py",
   "mimetype": "text/x-python",
   "name": "python",
   "nbconvert_exporter": "python",
   "pygments_lexer": "ipython3",
   "version": "3.8.8"
  }
 },
 "nbformat": 4,
 "nbformat_minor": 4
}
